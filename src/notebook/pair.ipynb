{
 "cells": [
  {
   "cell_type": "markdown",
   "metadata": {},
   "source": [
    "## Generate Seed Data"
   ]
  },
  {
   "cell_type": "code",
   "execution_count": 2,
   "metadata": {},
   "outputs": [],
   "source": [
    "from faker import Faker\n",
    "from random_object_id import generate as generate_random_mongo_id\n",
    "import json\n",
    "from pymongo import MongoClient\n",
    "\n",
    "def generate_seed_data(user_count = 100, output_path='../mock/users.json', domain_name=\"pwc.com\"):\n",
    "    fake = Faker()\n",
    "    user_list = []\n",
    "\n",
    "    for i in range(user_count):\n",
    "        user_id = generate_random_mongo_id()\n",
    "        firstName = fake.first_name()\n",
    "        lastName = fake.last_name()\n",
    "        email = firstName.lower() + \".\" + lastName.lower() + \"@\" + domain_name\n",
    "        user = { \"_id\": user_id, \"firstName\":firstName, \"lastName\":lastName, \"email\":email }\n",
    "        user_list.append(user)\n",
    "\n",
    "    with open(output_path, 'w', encoding='utf-8') as f:\n",
    "        json.dump(user_list, f)\n",
    "\n",
    "    return user_list\n",
    "\n",
    "def seed_user_data_to_mongodb(user_count):\n",
    "    client = MongoClient(\"localhost\", 23037)\n",
    "    db = client.pwc\n",
    "    users_collection = db.users\n",
    "    users_collection.delete_many({})\n",
    "    user_list = generate_seed_data(user_count)\n",
    "    users_collection.insert_many(user_list)"
   ]
  },
  {
   "cell_type": "code",
   "execution_count": 3,
   "metadata": {},
   "outputs": [],
   "source": [
    "seed_user_data_to_mongodb(20)"
   ]
  },
  {
   "cell_type": "markdown",
   "metadata": {},
   "source": [
    "## Pairing Business Requirements"
   ]
  },
  {
   "cell_type": "markdown",
   "metadata": {},
   "source": [
    "- 2 users should be paired in one group\n",
    "- The same pair won't happen "
   ]
  },
  {
   "cell_type": "markdown",
   "metadata": {},
   "source": [
    "### Approach 1: Random Sampling"
   ]
  },
  {
   "cell_type": "code",
   "execution_count": 217,
   "metadata": {},
   "outputs": [],
   "source": [
    "from random import sample\n",
    "\n",
    "# group id_1, id_2 must be sorted\n",
    "def already_grouped(group, historical_groups):\n",
    "    for h_group in historical_groups:\n",
    "        h_group_id_1 = h_group[0]\n",
    "        h_group_id_2 = h_group[1]\n",
    "        group_id_1 = group[0]\n",
    "        group_id_2 = group[1]\n",
    "        if group_id_1 == h_group_id_1 and group_id_2 == h_group_id_2:\n",
    "            return True\n",
    "\n",
    "def generate_groups(user_ids, historical_groups):\n",
    "    groups = []\n",
    "    local_user_ids = [x for x in user_ids]\n",
    "    while True:\n",
    "        current_group = sample(local_user_ids, 2)\n",
    "        current_group.sort()\n",
    "\n",
    "        # if any group already exist in historical pairs, restart all the whole round\n",
    "        if already_grouped(current_group, historical_groups) == True:\n",
    "            groups = []\n",
    "            local_user_ids = [x for x in user_ids]\n",
    "            continue\n",
    "\n",
    "        groups.append(current_group)\n",
    "        local_user_ids = list(set(local_user_ids).difference(set(current_group)))\n",
    "        if len(local_user_ids) == 0:\n",
    "            break\n",
    "    for group in groups:\n",
    "        historical_groups.append(group)\n",
    "    return groups\n",
    "\n",
    "def get_user_ids_from_mongodb():\n",
    "    client = MongoClient(\"localhost\", 23037)\n",
    "    db = client.pwc\n",
    "    users_collection = db.users\n",
    "\n",
    "    user_ids = [user[\"_id\"] for user in users_collection.find({})]\n",
    "    \n",
    "    return user_ids\n",
    "\n",
    "def get_grouping_records_from_mongodb():\n",
    "    client = MongoClient(\"localhost\", 23037)\n",
    "    db = client.pwc\n",
    "    groupings_collection = db.groupings\n",
    "\n",
    "    return [[grouping[\"id_1\"], grouping[\"id_2\"]] for grouping in groupings_collection.find({})]\n",
    "\n",
    "def replace_grouping_collection_in_mongodb(groupings):\n",
    "    client = MongoClient(\"localhost\", 23037)\n",
    "    db = client.pwc\n",
    "    groupings_collection = db.groupings\n",
    "\n",
    "    groupings_collection.delete_many({})\n",
    "\n",
    "    documents_to_insert = []\n",
    "    grouping_id = generate_random_mongo_id()\n",
    "    for grouping in groupings:\n",
    "        document = {\"id_1\": grouping[0], \"id_2\": grouping[1], \"group_id\": grouping_id}\n",
    "        documents_to_insert.append(document)\n",
    "    groupings_collection.insert_many(documents_to_insert)\n",
    "\n",
    "def generate_grouping_once(reset_grouping):\n",
    "    user_ids = get_user_ids_from_mongodb()\n",
    "    user_ids.sort()\n",
    "\n",
    "    # read from database\n",
    "    historical_groups = get_grouping_records_from_mongodb() if reset_grouping == False else []\n",
    "\n",
    "    current_grouping = generate_groups(user_ids, historical_groups)\n",
    "\n",
    "    # update database\n",
    "    replace_grouping_collection_in_mongodb(historical_groups)\n",
    "\n",
    "    return current_grouping"
   ]
  }
 ],
 "metadata": {
  "kernelspec": {
   "display_name": "Python 3.7.13 (conda)",
   "language": "python",
   "name": "python3"
  },
  "language_info": {
   "codemirror_mode": {
    "name": "ipython",
    "version": 3
   },
   "file_extension": ".py",
   "mimetype": "text/x-python",
   "name": "python",
   "nbconvert_exporter": "python",
   "pygments_lexer": "ipython3",
   "version": "3.7.13"
  },
  "orig_nbformat": 4,
  "vscode": {
   "interpreter": {
    "hash": "c71f4f4613b6b769d596112b7515cece0f0bdf5b37b64609a825c00f582064a9"
   }
  }
 },
 "nbformat": 4,
 "nbformat_minor": 2
}
